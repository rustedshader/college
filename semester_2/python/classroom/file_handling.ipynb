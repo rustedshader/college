{
 "cells": [
  {
   "cell_type": "markdown",
   "metadata": {},
   "source": [
    "ASCII -> 1 byte to store\n",
    "Unicode -> 4 byte to store \n",
    "UTF-8 -> 8 byte  \n",
    "UTF-16 -> 2 byte  \n",
    "UTF-32 -> 4 byte\n"
   ]
  },
  {
   "cell_type": "code",
   "execution_count": 27,
   "metadata": {},
   "outputs": [],
   "source": [
    "# Drawback of write overwrites the file\n",
    "f = open(\"file.txt\",\"w\")\n",
    "f.write(\"Squid Game\")\n",
    "f.close()\n",
    "\n",
    "f = open(\"file.txt\",\"w\")\n",
    "f.write(\"\")\n",
    "f.close()\n",
    "\n",
    "# Thus we will use append \"a\" to append to the file\n",
    "f = open(\"file.txt\",\"a\")\n",
    "f.write(\"Squid Game\")\n",
    "f.write(\"\\nGOT\")\n",
    "f.close()"
   ]
  },
  {
   "cell_type": "code",
   "execution_count": 28,
   "metadata": {},
   "outputs": [
    {
     "name": "stdout",
     "output_type": "stream",
     "text": [
      "Squid Game\n",
      "GOT\n"
     ]
    }
   ],
   "source": [
    "# With Keyword Usage closes the file as soon as it's usage is over\n",
    "\n",
    "\n",
    "\n",
    "with open(\"file.txt\",\"r\") as f:\n",
    "    x = f.read()\n",
    "    print(x)\n",
    "\n",
    "\n",
    "\n"
   ]
  },
  {
   "cell_type": "code",
   "execution_count": null,
   "metadata": {},
   "outputs": [],
   "source": [
    "large_file = [\"python easy\" for _ in range(100)]\n",
    "\n",
    "with open(\"large_file.txt\",\"w\") as f:\n",
    "    f.writelines(large_file)"
   ]
  },
  {
   "cell_type": "code",
   "execution_count": 41,
   "metadata": {},
   "outputs": [
    {
     "name": "stdout",
     "output_type": "stream",
     "text": [
      "110\n"
     ]
    }
   ],
   "source": [
    "with open(\"large_file.txt\", \"r\") as f:\n",
    "    chunk_size = 10\n",
    "    count = 0\n",
    "    while(len(f.read(chunk_size)) > 0):\n",
    "        count += 1\n",
    "    print(count)\n",
    "        # print(f.read(chunk_size) , end='**')"
   ]
  },
  {
   "cell_type": "code",
   "execution_count": null,
   "metadata": {},
   "outputs": [
    {
     "name": "stdout",
     "output_type": "stream",
     "text": [
      "pytho\n",
      "5\n",
      "0\n",
      "0\n"
     ]
    }
   ],
   "source": [
    "with open(\"large_file.txt\" , \"r\") as f:\n",
    "    print(f.read(5))\n",
    "    # Tell Where is the cursor\n",
    "    print(f.tell())\n",
    "    # Moves cursor back to 0\n",
    "    print(f.seek(0))\n",
    "    print(f.tell())"
   ]
  },
  {
   "cell_type": "markdown",
   "metadata": {},
   "source": [
    "Write a program that asks the user to enter 5 sentences \n",
    "\n",
    "The program should then write the sentences \n",
    "Write these sentences to a file output.txt with each sentence in a new line after writing to the file  reopen it in read mode and display its content "
   ]
  },
  {
   "cell_type": "code",
   "execution_count": null,
   "metadata": {},
   "outputs": [
    {
     "name": "stdout",
     "output_type": "stream",
     "text": [
      "Hi\n",
      "There\n",
      "My\n",
      "Name\n",
      "Is\n",
      "\n"
     ]
    }
   ],
   "source": [
    "b = []\n",
    "for _ in range(5):\n",
    "    b.append(input(\"Enter the sentence\\n: \") + '\\n')\n",
    "\n",
    "with open(\"output.txt\",\"w\") as f:\n",
    "    f.writelines(b)\n",
    "\n",
    "with open(\"output.txt\",\"r\") as f:\n",
    "    print(f.read)"
   ]
  },
  {
   "cell_type": "code",
   "execution_count": null,
   "metadata": {},
   "outputs": [
    {
     "name": "stdout",
     "output_type": "stream",
     "text": [
      "No error\n",
      "I will only run \n",
      "Always Print\n"
     ]
    }
   ],
   "source": [
    "# Try Except else Finally\n",
    "# Error is a coding mistake that prevents the code from runnning whereas exception is by passing any possible error  that comes in between\n",
    "\n",
    "try: \n",
    "    print(\"No error\")\n",
    "except Exception as e:\n",
    "    print(\"some error\",e)\n",
    "else:\n",
    "    print(\"I will only run \")\n",
    "finally:\n",
    "    print(\"Always Print\")"
   ]
  }
 ],
 "metadata": {
  "kernelspec": {
   "display_name": "Python 3",
   "language": "python",
   "name": "python3"
  },
  "language_info": {
   "codemirror_mode": {
    "name": "ipython",
    "version": 3
   },
   "file_extension": ".py",
   "mimetype": "text/x-python",
   "name": "python",
   "nbconvert_exporter": "python",
   "pygments_lexer": "ipython3",
   "version": "3.11.11"
  }
 },
 "nbformat": 4,
 "nbformat_minor": 2
}
